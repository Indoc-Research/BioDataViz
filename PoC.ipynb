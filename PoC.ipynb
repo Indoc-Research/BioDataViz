{
 "cells": [
  {
   "cell_type": "markdown",
   "id": "a44dafd8-f48c-4c04-9019-4d61ef611de8",
   "metadata": {},
   "source": [
    "# Initial Proof-of-Concept\n",
    "\n",
    "This notebook showcases an initial proof-of-concept of `biodataviz`´s core concepts: interactive widgets to create a plot and compute stats. So far, as little efforts as possible were made to properly design the UI, as this PoC is mostly function oriented. In contrast, most efforts were spent on the design of the code, and this PoC serves as successful validation of it´s highly modular, flexible, and extensible structure: "
   ]
  },
  {
   "cell_type": "code",
   "execution_count": null,
   "id": "96365fac-6831-42c2-a2ee-f3ad4eff1b24",
   "metadata": {},
   "outputs": [],
   "source": [
    "from biodataviz.controller.viz_controller import VisualizationController\n",
    "from biodataviz.twogroupsnorepeatedmeasures.stripplot.plotting import StripplotChain\n",
    "from biodataviz.twogroupsnorepeatedmeasures.stripplot.user_settings import StripplotSettingsView\n",
    "from biodataviz.twogroupsnorepeatedmeasures.stats import TwoGroupsNoRepeatedMeasuresStatsChain\n",
    "\n",
    "import pandas as pd"
   ]
  },
  {
   "cell_type": "code",
   "execution_count": null,
   "id": "ff799c74-0c4e-4bdf-ab98-77cb657e0cb7",
   "metadata": {},
   "outputs": [],
   "source": [
    "data = {'measure': [1, 2, 3, 4, 5, 12, 13, 14, 15, 16],\n",
    "        'group': ['a', 'a', 'a', 'a', 'a', 'b', 'b', 'b', 'b', 'b']}\n",
    "\n",
    "df = pd.DataFrame(data = data)\n",
    "df.head()"
   ]
  },
  {
   "cell_type": "code",
   "execution_count": null,
   "id": "e17563a4-65e8-4e69-b9c5-137ab19f2c9c",
   "metadata": {},
   "outputs": [],
   "source": [
    "view = StripplotSettingsView()\n",
    "model = StripplotChain()\n",
    "stats_chain = TwoGroupsNoRepeatedMeasuresStatsChain()"
   ]
  },
  {
   "cell_type": "code",
   "execution_count": null,
   "id": "f1b54921-d5cf-4656-8716-b4b4e97d9c6c",
   "metadata": {},
   "outputs": [],
   "source": [
    "controller = VisualizationController(view, model)"
   ]
  },
  {
   "cell_type": "code",
   "execution_count": null,
   "id": "5076af5d-f6a6-42de-bcb3-bf565d494ac9",
   "metadata": {},
   "outputs": [],
   "source": [
    "controller.set_source_data(df)"
   ]
  },
  {
   "cell_type": "code",
   "execution_count": null,
   "id": "2d68ddfd-ebbc-4c5b-bf27-eedd2b70feb0",
   "metadata": {},
   "outputs": [],
   "source": [
    "view.widget"
   ]
  },
  {
   "cell_type": "code",
   "execution_count": null,
   "id": "f81ebaf2-9dfc-4e7f-9677-dcd996571c38",
   "metadata": {},
   "outputs": [],
   "source": [
    "stats_configs = {'dependent_variable_column_name': 'measure',\n",
    "                 'group_column_name': 'group'}\n",
    "results = stats_chain.compute_stats(source_data = df, **stats_configs)"
   ]
  },
  {
   "cell_type": "code",
   "execution_count": null,
   "id": "a1f05aa8-d838-4fc2-b4a3-cb74356ca772",
   "metadata": {},
   "outputs": [],
   "source": [
    "results['final_results']"
   ]
  },
  {
   "cell_type": "code",
   "execution_count": null,
   "id": "d0879385-65a2-4acb-afba-96415ad8f6bf",
   "metadata": {},
   "outputs": [],
   "source": []
  }
 ],
 "metadata": {
  "kernelspec": {
   "display_name": "Python 3 (ipykernel)",
   "language": "python",
   "name": "python3"
  },
  "language_info": {
   "codemirror_mode": {
    "name": "ipython",
    "version": 3
   },
   "file_extension": ".py",
   "mimetype": "text/x-python",
   "name": "python",
   "nbconvert_exporter": "python",
   "pygments_lexer": "ipython3",
   "version": "3.12.0"
  }
 },
 "nbformat": 4,
 "nbformat_minor": 5
}
